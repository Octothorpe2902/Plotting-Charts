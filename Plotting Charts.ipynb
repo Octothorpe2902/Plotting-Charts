import matplotlib.pyplot as plt
import numpy as np
x = [5,7,8,7,2,17,2,9,4,11,12,9,6]
y = [99,86,87,88,111,86,103,87,94,78,77,85,86]
x1 = np.array(["A", "B", "C", "D"])
y1 = np.array([3, 8, 1, 10])
y2 = np.array([35, 25, 25, 15])
plt.scatter(x,y)
plt.title("Scatter Plot")
plt.show()
plt.bar(x1,y1)
plt.title("Bar Plot")
plt.show()
plt.pie(y2)
plt.title("Pie")
plt.show()
x3 = np.array([0, 1, 2, 3])
y3 = np.array([3, 8, 1, 10])
plt.title("Subplot")
plt.subplot(2, 1, 1)
plt.plot(x3,y3)


x4 = np.array([0, 1, 2, 3])
y4 = np.array([10, 20, 30, 40])

plt.subplot(2, 1, 2)
plt.plot(x4,y4)

plt.show()
